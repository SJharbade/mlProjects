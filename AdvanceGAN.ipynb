{
  "nbformat": 4,
  "nbformat_minor": 0,
  "metadata": {
    "colab": {
      "provenance": [],
      "gpuType": "T4",
      "authorship_tag": "ABX9TyMViEro5TqvqXOHfxQXeN4F",
      "include_colab_link": true
    },
    "kernelspec": {
      "name": "python3",
      "display_name": "Python 3"
    },
    "language_info": {
      "name": "python"
    },
    "accelerator": "GPU",
    "widgets": {
      "application/vnd.jupyter.widget-state+json": {
        "9db9a3f050484fabb87cc1c1cc45493d": {
          "model_module": "@jupyter-widgets/controls",
          "model_name": "HBoxModel",
          "model_module_version": "1.5.0",
          "state": {
            "_dom_classes": [],
            "_model_module": "@jupyter-widgets/controls",
            "_model_module_version": "1.5.0",
            "_model_name": "HBoxModel",
            "_view_count": null,
            "_view_module": "@jupyter-widgets/controls",
            "_view_module_version": "1.5.0",
            "_view_name": "HBoxView",
            "box_style": "",
            "children": [
              "IPY_MODEL_2790872cef3c4a8e93a5d0e38ba379a3",
              "IPY_MODEL_f052b5040bdc45ee91242234c1222c81",
              "IPY_MODEL_15677c1ad0754f0ca5509ce6e41e3a82"
            ],
            "layout": "IPY_MODEL_84cf2e5622424c0bae7f57202345f11b"
          }
        },
        "2790872cef3c4a8e93a5d0e38ba379a3": {
          "model_module": "@jupyter-widgets/controls",
          "model_name": "HTMLModel",
          "model_module_version": "1.5.0",
          "state": {
            "_dom_classes": [],
            "_model_module": "@jupyter-widgets/controls",
            "_model_module_version": "1.5.0",
            "_model_name": "HTMLModel",
            "_view_count": null,
            "_view_module": "@jupyter-widgets/controls",
            "_view_module_version": "1.5.0",
            "_view_name": "HTMLView",
            "description": "",
            "description_tooltip": null,
            "layout": "IPY_MODEL_a468e2d87f694bb8a6ad6c97100effd4",
            "placeholder": "​",
            "style": "IPY_MODEL_fc3b986ebff741dea780e098583fb4f1",
            "value": "  0%"
          }
        },
        "f052b5040bdc45ee91242234c1222c81": {
          "model_module": "@jupyter-widgets/controls",
          "model_name": "FloatProgressModel",
          "model_module_version": "1.5.0",
          "state": {
            "_dom_classes": [],
            "_model_module": "@jupyter-widgets/controls",
            "_model_module_version": "1.5.0",
            "_model_name": "FloatProgressModel",
            "_view_count": null,
            "_view_module": "@jupyter-widgets/controls",
            "_view_module_version": "1.5.0",
            "_view_name": "ProgressView",
            "bar_style": "danger",
            "description": "",
            "description_tooltip": null,
            "layout": "IPY_MODEL_a6d69ed4d20242f3be1ff419ff44370b",
            "max": 79,
            "min": 0,
            "orientation": "horizontal",
            "style": "IPY_MODEL_a217a705126d40e18ee85f1e8223381e",
            "value": 0
          }
        },
        "15677c1ad0754f0ca5509ce6e41e3a82": {
          "model_module": "@jupyter-widgets/controls",
          "model_name": "HTMLModel",
          "model_module_version": "1.5.0",
          "state": {
            "_dom_classes": [],
            "_model_module": "@jupyter-widgets/controls",
            "_model_module_version": "1.5.0",
            "_model_name": "HTMLModel",
            "_view_count": null,
            "_view_module": "@jupyter-widgets/controls",
            "_view_module_version": "1.5.0",
            "_view_name": "HTMLView",
            "description": "",
            "description_tooltip": null,
            "layout": "IPY_MODEL_d1c58dc394a74e4cb07d9f0ddfc6aa3f",
            "placeholder": "​",
            "style": "IPY_MODEL_c1687fa9ab9f4536ae6a819b3f7bbe99",
            "value": " 0/79 [00:00&lt;?, ?it/s]"
          }
        },
        "84cf2e5622424c0bae7f57202345f11b": {
          "model_module": "@jupyter-widgets/base",
          "model_name": "LayoutModel",
          "model_module_version": "1.2.0",
          "state": {
            "_model_module": "@jupyter-widgets/base",
            "_model_module_version": "1.2.0",
            "_model_name": "LayoutModel",
            "_view_count": null,
            "_view_module": "@jupyter-widgets/base",
            "_view_module_version": "1.2.0",
            "_view_name": "LayoutView",
            "align_content": null,
            "align_items": null,
            "align_self": null,
            "border": null,
            "bottom": null,
            "display": null,
            "flex": null,
            "flex_flow": null,
            "grid_area": null,
            "grid_auto_columns": null,
            "grid_auto_flow": null,
            "grid_auto_rows": null,
            "grid_column": null,
            "grid_gap": null,
            "grid_row": null,
            "grid_template_areas": null,
            "grid_template_columns": null,
            "grid_template_rows": null,
            "height": null,
            "justify_content": null,
            "justify_items": null,
            "left": null,
            "margin": null,
            "max_height": null,
            "max_width": null,
            "min_height": null,
            "min_width": null,
            "object_fit": null,
            "object_position": null,
            "order": null,
            "overflow": null,
            "overflow_x": null,
            "overflow_y": null,
            "padding": null,
            "right": null,
            "top": null,
            "visibility": null,
            "width": null
          }
        },
        "a468e2d87f694bb8a6ad6c97100effd4": {
          "model_module": "@jupyter-widgets/base",
          "model_name": "LayoutModel",
          "model_module_version": "1.2.0",
          "state": {
            "_model_module": "@jupyter-widgets/base",
            "_model_module_version": "1.2.0",
            "_model_name": "LayoutModel",
            "_view_count": null,
            "_view_module": "@jupyter-widgets/base",
            "_view_module_version": "1.2.0",
            "_view_name": "LayoutView",
            "align_content": null,
            "align_items": null,
            "align_self": null,
            "border": null,
            "bottom": null,
            "display": null,
            "flex": null,
            "flex_flow": null,
            "grid_area": null,
            "grid_auto_columns": null,
            "grid_auto_flow": null,
            "grid_auto_rows": null,
            "grid_column": null,
            "grid_gap": null,
            "grid_row": null,
            "grid_template_areas": null,
            "grid_template_columns": null,
            "grid_template_rows": null,
            "height": null,
            "justify_content": null,
            "justify_items": null,
            "left": null,
            "margin": null,
            "max_height": null,
            "max_width": null,
            "min_height": null,
            "min_width": null,
            "object_fit": null,
            "object_position": null,
            "order": null,
            "overflow": null,
            "overflow_x": null,
            "overflow_y": null,
            "padding": null,
            "right": null,
            "top": null,
            "visibility": null,
            "width": null
          }
        },
        "fc3b986ebff741dea780e098583fb4f1": {
          "model_module": "@jupyter-widgets/controls",
          "model_name": "DescriptionStyleModel",
          "model_module_version": "1.5.0",
          "state": {
            "_model_module": "@jupyter-widgets/controls",
            "_model_module_version": "1.5.0",
            "_model_name": "DescriptionStyleModel",
            "_view_count": null,
            "_view_module": "@jupyter-widgets/base",
            "_view_module_version": "1.2.0",
            "_view_name": "StyleView",
            "description_width": ""
          }
        },
        "a6d69ed4d20242f3be1ff419ff44370b": {
          "model_module": "@jupyter-widgets/base",
          "model_name": "LayoutModel",
          "model_module_version": "1.2.0",
          "state": {
            "_model_module": "@jupyter-widgets/base",
            "_model_module_version": "1.2.0",
            "_model_name": "LayoutModel",
            "_view_count": null,
            "_view_module": "@jupyter-widgets/base",
            "_view_module_version": "1.2.0",
            "_view_name": "LayoutView",
            "align_content": null,
            "align_items": null,
            "align_self": null,
            "border": null,
            "bottom": null,
            "display": null,
            "flex": null,
            "flex_flow": null,
            "grid_area": null,
            "grid_auto_columns": null,
            "grid_auto_flow": null,
            "grid_auto_rows": null,
            "grid_column": null,
            "grid_gap": null,
            "grid_row": null,
            "grid_template_areas": null,
            "grid_template_columns": null,
            "grid_template_rows": null,
            "height": null,
            "justify_content": null,
            "justify_items": null,
            "left": null,
            "margin": null,
            "max_height": null,
            "max_width": null,
            "min_height": null,
            "min_width": null,
            "object_fit": null,
            "object_position": null,
            "order": null,
            "overflow": null,
            "overflow_x": null,
            "overflow_y": null,
            "padding": null,
            "right": null,
            "top": null,
            "visibility": null,
            "width": null
          }
        },
        "a217a705126d40e18ee85f1e8223381e": {
          "model_module": "@jupyter-widgets/controls",
          "model_name": "ProgressStyleModel",
          "model_module_version": "1.5.0",
          "state": {
            "_model_module": "@jupyter-widgets/controls",
            "_model_module_version": "1.5.0",
            "_model_name": "ProgressStyleModel",
            "_view_count": null,
            "_view_module": "@jupyter-widgets/base",
            "_view_module_version": "1.2.0",
            "_view_name": "StyleView",
            "bar_color": null,
            "description_width": ""
          }
        },
        "d1c58dc394a74e4cb07d9f0ddfc6aa3f": {
          "model_module": "@jupyter-widgets/base",
          "model_name": "LayoutModel",
          "model_module_version": "1.2.0",
          "state": {
            "_model_module": "@jupyter-widgets/base",
            "_model_module_version": "1.2.0",
            "_model_name": "LayoutModel",
            "_view_count": null,
            "_view_module": "@jupyter-widgets/base",
            "_view_module_version": "1.2.0",
            "_view_name": "LayoutView",
            "align_content": null,
            "align_items": null,
            "align_self": null,
            "border": null,
            "bottom": null,
            "display": null,
            "flex": null,
            "flex_flow": null,
            "grid_area": null,
            "grid_auto_columns": null,
            "grid_auto_flow": null,
            "grid_auto_rows": null,
            "grid_column": null,
            "grid_gap": null,
            "grid_row": null,
            "grid_template_areas": null,
            "grid_template_columns": null,
            "grid_template_rows": null,
            "height": null,
            "justify_content": null,
            "justify_items": null,
            "left": null,
            "margin": null,
            "max_height": null,
            "max_width": null,
            "min_height": null,
            "min_width": null,
            "object_fit": null,
            "object_position": null,
            "order": null,
            "overflow": null,
            "overflow_x": null,
            "overflow_y": null,
            "padding": null,
            "right": null,
            "top": null,
            "visibility": null,
            "width": null
          }
        },
        "c1687fa9ab9f4536ae6a819b3f7bbe99": {
          "model_module": "@jupyter-widgets/controls",
          "model_name": "DescriptionStyleModel",
          "model_module_version": "1.5.0",
          "state": {
            "_model_module": "@jupyter-widgets/controls",
            "_model_module_version": "1.5.0",
            "_model_name": "DescriptionStyleModel",
            "_view_count": null,
            "_view_module": "@jupyter-widgets/base",
            "_view_module_version": "1.2.0",
            "_view_name": "StyleView",
            "description_width": ""
          }
        }
      }
    }
  },
  "cells": [
    {
      "cell_type": "markdown",
      "metadata": {
        "id": "view-in-github",
        "colab_type": "text"
      },
      "source": [
        "<a href=\"https://colab.research.google.com/github/SJharbade/mlProjects/blob/main/AdvanceGAN.ipynb\" target=\"_parent\"><img src=\"https://colab.research.google.com/assets/colab-badge.svg\" alt=\"Open In Colab\"/></a>"
      ]
    },
    {
      "cell_type": "code",
      "execution_count": null,
      "metadata": {
        "id": "yFuoJby4f8dG"
      },
      "outputs": [],
      "source": [
        "### Advance GAN\n",
        "\n",
        "# Importing Libraries\n",
        "\n",
        "import torch, torchvision, os, PIL, pdb\n",
        "from torch import nn\n",
        "from torch.utils.data import Dataset\n",
        "from torch.utils.data import DataLoader\n",
        "from torchvision import transforms\n",
        "from torchvision.utils import make_grid\n",
        "from tqdm.auto import tqdm\n",
        "import numpy as np\n",
        "import matplotlib.pyplot as plt\n",
        "from PIL import Image"
      ]
    },
    {
      "cell_type": "code",
      "source": [],
      "metadata": {
        "id": "HfK15LVhS4-i"
      },
      "execution_count": null,
      "outputs": []
    },
    {
      "cell_type": "code",
      "source": [
        "def show(tensor, num =25, wandbactive =0, name =''):\n",
        "  data = tensor.detach().cpu\n",
        "  #grid = make_grid(data[:num], nrow = 5).permute(1,2,0)\n",
        "  grid = make_grid(tensor, nrow = 5).permute(1,2,0)\n",
        "\n",
        "  # Optional\n",
        "  #if(wandb == 0 and wandbact ==0):\n",
        "  #  wandb.log({name: wandb.Image(grid.numpy().clip(0,1))})\n",
        "\n",
        "  plt.imshow(grid.clip(0,1))\n",
        "  plt.show()\n",
        "\n",
        "  # Hyperparameters and general parameters\n",
        "n_epochs = 10000\n",
        "batch_size = 128\n",
        "lr = 1e-4\n",
        "z_dim = 200 ### Latent space ( the hidden layer that contains the latent variables that are used to generate the outputs)  Dimensionality\n",
        "device = 'cuda' ### ie GPU\n",
        "\n",
        "cur_step =0\n",
        "crit_cycles =5 ### critic cycle 5 here denotes, every one generator there will be 5 times execution of critics so that critic cycle doen't overwhelm with generator\n",
        "gen_losses =[]\n",
        "crit_losses = []\n",
        "show_steps =35 # every n, here 35, steps it will show progress\n",
        "save_steps = 35 ### THis is check point and is required either if training is going on too longs like for days, it save the models and when training restarts it restarts from the check points\n",
        "\n",
        "wandbact =0 ### THiS is optional parameter\n"
      ],
      "metadata": {
        "id": "jSP3Aeuxh23W"
      },
      "execution_count": null,
      "outputs": []
    },
    {
      "cell_type": "code",
      "source": [
        "### Generator Model\n",
        "\n",
        "class Generator(nn.Module):\n",
        "  def __init__(self, z_dim =64, d_dim = 16): # z_dim will be replaced with the value 200 that we decalred earlier and d_dim is for Convolution network\n",
        "    super(Generator, self).__init__()  ## initialize the class with call to parent\n",
        "    self.z_dim = z_dim  ### initialize new valriable to store data for latent space\n",
        "\n",
        "    self.gen = nn.Sequential(\n",
        "        ## ConvTranspose2d: in_channels, out_channels, kernel_size, stride =1, padding =0, channels here is color of image\n",
        "        ## Calculating new width and height : (n -1)*stride -2*padding +ks\n",
        "        ## n = width or height\n",
        "        ## ks = Kernel size, Kernel is size of Matrix for example for metrics 4 x 4 Kernel = 4\n",
        "        ## We begin with a 1 x 1 image with z_dim number of channels (200)\n",
        "        nn.ConvTranspose2d(z_dim, d_dim * 32, 4,1,0), ### So here we are passing image of 200 channels(color), d_dim is nothin a variable that is initilize to 16 and\n",
        "                                                      ### act as out channels(colors)\n",
        "                                                      ## So overall we are passing 4x4 image with (ch: 200, 512)\n",
        "        nn.BatchNorm2d(d_dim *32),\n",
        "        nn.ReLU(True),\n",
        "\n",
        "        nn.ConvTranspose2d(d_dim *32, d_dim * 16, 4, 1, 0), ## So here we are passing 16x16 image with (ch: 512, 256)\n",
        "        nn.BatchNorm2d(d_dim *16),\n",
        "        nn.ReLU(True),\n",
        "\n",
        "        nn.ConvTranspose2d(d_dim *16, d_dim * 8, 4, 1, 1), ## So here we are passing 32x32 image with (ch: 512, 256)\n",
        "        nn.BatchNorm2d(d_dim *8),\n",
        "        nn.ReLU(True),\n",
        "\n",
        "        nn.ConvTranspose2d(d_dim *8, d_dim * 4, 4, 1, 1),  ## So here we are passing 64x64 image with (ch: 64, 32)\n",
        "        nn.BatchNorm2d(d_dim *4),\n",
        "        nn.ReLU(True),\n",
        "\n",
        "        nn.ConvTranspose2d(d_dim *4, d_dim * 2, 4, 1, 1), ## So here we are passing 4x4 image with (ch: 200, 512)\n",
        "        nn.BatchNorm2d(d_dim *2),\n",
        "        nn.ReLU(True),\n",
        "\n",
        "        nn.ConvTranspose2d(d_dim *2, 3, 4, 1, 1), ## So here output channel is 3 because we need image in RGB color\n",
        "        ## Don't need batch norm in last layer\n",
        "        nn.Tanh() ## produce result in the range -1 to 1\n",
        "\n",
        "    )\n",
        "  def forward(self,noise):\n",
        "    x =noise.view(len(noise),self.z_dim,1,1)\n",
        "    return self.gen(x)\n",
        "\n",
        "def gen_noise(num,z_dim,device = 'cuda'):\n",
        "    return torch.rand(num,z_dim, device = device)"
      ],
      "metadata": {
        "id": "UXcRtNScpIsL"
      },
      "execution_count": null,
      "outputs": []
    },
    {
      "cell_type": "code",
      "source": [
        "### Critic Model\n",
        "# Conv2d: in_channels, out_channels, kernerl_size, stride =1, padding = 0\n",
        "# New Width and Height: (n+2 * Pad - ks)/ stride +1\n",
        "\n",
        "class Critic(nn.Module):\n",
        "  def __init__(self, d_dim = 16):\n",
        "    super(Critic, self).__init__()\n",
        "    self.crit = nn.Sequential(\n",
        "   # Conv2d: in_channels, out_channels, kernerl_size, stride =1, padding = 0\n",
        "   # New Width and Height: (n+2 * Pad - ks)/ stride +1\n",
        "   # Here we go from larger size image,128x128, to small size image 1x1\n",
        "\n",
        "   nn.Conv2d(3, d_dim, 4, 2, 1),  # Size of image will be 64 x 64 with Channel(3, 16)\n",
        "   nn.InstanceNorm2d(d_dim),\n",
        "   nn.LeakyReLU(0.2),\n",
        "\n",
        "   nn.Conv2d(d_dim, d_dim*2, 4, 2, 1),    # Size of image will be 32 x 32 with Channel(16, 32)\n",
        "   nn.InstanceNorm2d(d_dim*2),\n",
        "   nn.LeakyReLU(0.2),\n",
        "\n",
        "   nn.Conv2d(d_dim*2, d_dim*4, 4, 2, 1),   # Size of image will be 16 x 16 with Channel(32,64)\n",
        "   nn.InstanceNorm2d(d_dim*4),\n",
        "   nn.LeakyReLU(0.2),\n",
        "\n",
        "   nn.Conv2d(d_dim*4, d_dim*8, 4, 2, 1),   # Size of image will be 8 x 8 with Channel(64,128)\n",
        "   nn.InstanceNorm2d(d_dim*8),\n",
        "   nn.LeakyReLU(0.2),\n",
        "\n",
        "   nn.Conv2d(d_dim*8, d_dim*16, 4, 2, 1),  # Size of image will be 4 x 4 with Channel(128, 256)\n",
        "   nn.InstanceNorm2d(d_dim*16),\n",
        "   nn.LeakyReLU(0.2),\n",
        "\n",
        "   nn.Conv2d(d_dim*16, 1 , 4, 1, 0)   # Size of image will be 1 x 1 with Channel(256 , 1), critic will output only 1 value\n",
        "\n",
        "  )\n",
        "\n",
        "  def forward(self,image):\n",
        "    crit_pred = self.crit(image)\n",
        "    return crit_pred.view(len(crit_pred), -1 )"
      ],
      "metadata": {
        "id": "hiXKddK7izhk"
      },
      "execution_count": null,
      "outputs": []
    },
    {
      "cell_type": "code",
      "source": [
        "from google.colab import drive\n",
        "drive.mount('/content/gdrive')"
      ],
      "metadata": {
        "id": "e-6c7mW_cTGW",
        "colab": {
          "base_uri": "https://localhost:8080/"
        },
        "outputId": "edac1848-502e-4de9-e0d2-563b67f1387c"
      },
      "execution_count": null,
      "outputs": [
        {
          "output_type": "stream",
          "name": "stdout",
          "text": [
            "Mounted at /content/gdrive\n"
          ]
        }
      ]
    },
    {
      "cell_type": "code",
      "source": [
        "import gdown, zipfile\n",
        "\n",
        "path= '/content/gdrive/MyDrive/Data/img_align_celeba.zip'\n",
        "# This is obtained by finding the celeba file in the folder option on the left      # hand of the screen\n",
        "# and right-click copy path. You will find it in the same structure as your drive    # organization\n",
        "\n",
        "dir_path='data/celba'\n",
        "# Same as from the lecture video\n",
        "\n",
        "if not os.path.exists(dir_path):\n",
        "  os.makedirs(dir_path)\n",
        "\n",
        "with zipfile.ZipFile(path, 'r') as ziphandler:\n",
        "  ziphandler.extractall(dir_path)"
      ],
      "metadata": {
        "id": "cxTwzo6FduKN"
      },
      "execution_count": null,
      "outputs": []
    },
    {
      "cell_type": "code",
      "source": [
        "# dataset, dataloader, gen, crit,test datasets\n",
        "path1 = 'data/celba/img_align_celeba'\n",
        "class Dataset(Dataset):\n",
        "  def __init__(self,path, size =128, lim = 10000):\n",
        "    self.sizes = [size,size]\n",
        "    items,lables =[],[]\n",
        "\n",
        "    for data in os.listdir(path1)[:lim]:\n",
        "      item = os.path.join(path1,data)\n",
        "      items.append(item)\n",
        "      lables.append(data)\n",
        "    self.items = items\n",
        "    self.lables = lables\n",
        "\n",
        "  def __len__(self):\n",
        "    return len(self.items)\n",
        "  #items = 'data/celba/img_align_celeba/img_align_celeba'\n",
        "\n",
        "  def __getitem__(self,idx):\n",
        "    data = PIL.Image.open(self.items[idx]).convert('RGB')\n",
        "    data = np.asarray(torchvision.transforms.Resize(self.sizes)(data))\n",
        "    data =np.transpose(data,(2,0,1)).astype(np.float32, copy = False)\n",
        "    data = torch.from_numpy(data).div(255)\n",
        "    return data, self.lables[idx]\n",
        "\n",
        "# Dataset\n",
        "# data_path = './data/celba/img_align_celeba/img_align_celeba/img_align_celeba'\n",
        "data_path = './data/celba/img_align_celeba'\n",
        "ds = Dataset(data_path,size = 128, lim = 10000)\n",
        "\n",
        "# DataLoader\n",
        "dataloader = DataLoader(ds, batch_size = batch_size,shuffle =True )\n",
        "#print(dataloader)\n",
        "\n",
        "# models\n",
        "\n",
        "gen = Generator(z_dim).to(device)\n",
        "crit = Critic().to(device)\n",
        "\n",
        "## Optimizers\n",
        "\n",
        "gen_opt = torch.optim.Adam(gen.parameters(), lr = lr, betas=(0.5,0.9))\n",
        "crit_opt = torch.optim.Adam(crit.parameters(),lr = lr, betas = (0.5,0.9))\n",
        "\n",
        "\n",
        "x,y = next(iter(dataloader))\n",
        "show(x)\n"
      ],
      "metadata": {
        "colab": {
          "base_uri": "https://localhost:8080/",
          "height": 435
        },
        "id": "8jv8KewjeH2V",
        "outputId": "8b5600ee-30ba-401a-b12d-01bef346b701"
      },
      "execution_count": null,
      "outputs": [
        {
          "output_type": "display_data",
          "data": {
            "text/plain": [
              "<Figure size 640x480 with 1 Axes>"
            ],
            "image/png": "[encoded data removed]"
          },
          "metadata": {}
        }
      ]
    },
    {
      "cell_type": "code",
      "source": [
        "## gradient penalty calculation\n",
        "\n",
        "def get_gp(real, fake, crit, alpha, gamma=10):\n",
        "  mix_images = real * alpha + fake * (1-alpha) # 128 x 3 x 128 x 128\n",
        "  mix_scores = crit(mix_images) # 128 x 1\n",
        "\n",
        "  gradient = torch.autograd.grad(\n",
        "      inputs = mix_images,\n",
        "      outputs = mix_scores,\n",
        "      grad_outputs=torch.ones_like(mix_scores),\n",
        "      retain_graph=True,\n",
        "      create_graph=True,\n",
        "  )[0] # 128 x 3 x 128 x 128\n",
        "\n",
        "  gradient = gradient.view(len(gradient), -1)   # 128 x 49152\n",
        "  gradient_norm = gradient.norm(2, dim=1)\n",
        "  gp = gamma * ((gradient_norm-1)**2).mean()\n",
        "\n",
        "  return gp"
      ],
      "metadata": {
        "id": "PApaiHr8KolG"
      },
      "execution_count": null,
      "outputs": []
    },
    {
      "cell_type": "code",
      "source": [
        "## Save and load checkpoints\n",
        "\n",
        "root_path='./data/'\n",
        "\n",
        "def save_checkpoint(name):\n",
        "  torch.save({\n",
        "      'epoch': epoch,\n",
        "      'model_state_dict': gen.state_dict(),\n",
        "      'optimizer_state_dict': gen_opt.state_dict()\n",
        "  }, f\"{root_path}G-{name}.pkl\")\n",
        "\n",
        "  torch.save({\n",
        "      'epoch': epoch,\n",
        "      'model_state_dict': crit.state_dict(),\n",
        "      'optimizer_state_dict': crit_opt.state_dict()\n",
        "  }, f\"{root_path}C-{name}.pkl\")\n",
        "\n",
        "  print(\"Saved checkpoint\")\n",
        "\n",
        "def load_checkpoint(name):\n",
        "  checkpoint = torch.load(f\"{root_path}G-{name}.pkl\")\n",
        "  gen.load_state_dict(checkpoint['model_state_dict'])\n",
        "  gen_opt.load_state_dict(checkpoint['optimizer_state_dict'])\n",
        "\n",
        "  checkpoint = torch.load(f\"{root_path}C-{name}.pkl\")\n",
        "  crit.load_state_dict(checkpoint['model_state_dict'])\n",
        "  crit_opt.load_state_dict(checkpoint['optimizer_state_dict'])\n",
        "\n",
        "  print(\"Loaded checkpoint\")\n",
        "\n",
        "#load_checkpoint('final-wgan-noinit')"
      ],
      "metadata": {
        "id": "XCd03CbqK85q"
      },
      "execution_count": null,
      "outputs": []
    },
    {
      "cell_type": "code",
      "source": [
        "epoch =1\n",
        "save_checkpoint(\"test\")"
      ],
      "metadata": {
        "colab": {
          "base_uri": "https://localhost:8080/"
        },
        "id": "iMfmyRsoLbrg",
        "outputId": "d5fd8cd0-11f9-4222-ae11-76b8c86676af"
      },
      "execution_count": null,
      "outputs": [
        {
          "output_type": "stream",
          "name": "stdout",
          "text": [
            "Saved checkpoint\n"
          ]
        }
      ]
    },
    {
      "cell_type": "code",
      "source": [
        "## Training loop\n",
        "\n",
        "for epoch in range(n_epochs):\n",
        "  for real, _ in tqdm(dataloader):\n",
        "    cur_bs= len(real) #128\n",
        "    real=real.to(device)\n",
        "\n",
        "    ### CRITIC\n",
        "    mean_crit_loss = 0\n",
        "    for _ in range(crit_cycles):\n",
        "      crit_opt.zero_grad()\n",
        "\n",
        "      noise=gen_noise(cur_bs, z_dim)\n",
        "      fake = gen(noise)\n",
        "      crit_fake_pred = crit(fake)\n",
        "      crit_real_pred = crit(real)\n",
        "\n",
        "      alpha=torch.rand(len(real),1,1,1,device=device, requires_grad=True) # 128 x 1 x 1 x 1\n",
        "      gp = get_gp(real, fake.detach(), crit, alpha)\n",
        "\n",
        "      crit_loss = crit_fake_pred.mean() - crit_real_pred.mean() + gp\n",
        "\n",
        "      mean_crit_loss+=crit_loss.item() / crit_cycles\n",
        "\n",
        "      crit_loss.backward(retain_graph=True)\n",
        "      crit_opt.step()\n",
        "\n",
        "    crit_losses+=[mean_crit_loss]\n",
        "\n",
        "    ### GENERATOR\n",
        "    gen_opt.zero_grad()\n",
        "    noise = gen_noise(cur_bs, z_dim)\n",
        "    fake = gen(noise)\n",
        "    crit_fake_pred = crit(fake)\n",
        "\n",
        "    gen_loss = -crit_fake_pred.mean()\n",
        "    gen_loss.backward()\n",
        "    gen_opt.step()\n",
        "\n",
        "    gen_losses+=[gen_loss.item()]\n",
        "\n",
        "    ### Stats\n",
        "\n",
        "    if cur_step % save_step == 0 and cur_step > 0:\n",
        "      print(\"Saving checkpoint: \", cur_step, save_step)\n",
        "      save_checkpoint(\"latest\")\n",
        "\n",
        "    if (cur_step % show_step == 0 and cur_step > 0):\n",
        "      show(fake, wandbactive=1, name='fake')\n",
        "      show(real, wandbactive=1, name='real')\n",
        "\n",
        "      gen_mean=sum(gen_losses[-show_step:]) / show_step\n",
        "      crit_mean = sum(crit_losses[-show_step:]) / show_step\n",
        "      print(f\"Epoch: {epoch}: Step {cur_step}: Generator loss: {gen_mean}, critic loss: {crit_mean}\")\n",
        "\n",
        "      plt.plot(\n",
        "          range(len(gen_losses)),\n",
        "          torch.Tensor(gen_losses),\n",
        "          label=\"Generator Loss\"\n",
        "      )\n",
        "\n",
        "      plt.plot(\n",
        "          range(len(gen_losses)),\n",
        "          torch.Tensor(crit_losses),\n",
        "          label=\"Critic Loss\"\n",
        "      )\n",
        "\n",
        "      plt.ylim(-150,150)\n",
        "      plt.legend()\n",
        "      plt.show()\n",
        "\n",
        "    cur_step+=1\n"
      ],
      "metadata": {
        "colab": {
          "base_uri": "https://localhost:8080/",
          "height": 422,
          "referenced_widgets": [
            "9db9a3f050484fabb87cc1c1cc45493d",
            "2790872cef3c4a8e93a5d0e38ba379a3",
            "f052b5040bdc45ee91242234c1222c81",
            "15677c1ad0754f0ca5509ce6e41e3a82",
            "84cf2e5622424c0bae7f57202345f11b",
            "a468e2d87f694bb8a6ad6c97100effd4",
            "fc3b986ebff741dea780e098583fb4f1",
            "a6d69ed4d20242f3be1ff419ff44370b",
            "a217a705126d40e18ee85f1e8223381e",
            "d1c58dc394a74e4cb07d9f0ddfc6aa3f",
            "c1687fa9ab9f4536ae6a819b3f7bbe99"
          ]
        },
        "id": "0qVDJDdWNGNI",
        "outputId": "128c412a-0fdf-42d3-8b20-2aa5380f3231"
      },
      "execution_count": null,
      "outputs": [
        {
          "output_type": "display_data",
          "data": {
            "text/plain": [
              "  0%|          | 0/79 [00:00<?, ?it/s]"
            ],
            "application/vnd.jupyter.widget-view+json": {
              "version_major": 2,
              "version_minor": 0,
              "model_id": "9db9a3f050484fabb87cc1c1cc45493d"
            }
          },
          "metadata": {}
        },
        {
          "output_type": "error",
          "ename": "ValueError",
          "evalue": "ignored",
          "traceback": [
            "\u001b[0;31m---------------------------------------------------------------------------\u001b[0m",
            "\u001b[0;31mValueError\u001b[0m                                Traceback (most recent call last)",
            "\u001b[0;32m<ipython-input-31-2540885cd5e0>\u001b[0m in \u001b[0;36m<cell line: 3>\u001b[0;34m()\u001b[0m\n\u001b[1;32m     13\u001b[0m       \u001b[0mnoise\u001b[0m\u001b[0;34m=\u001b[0m\u001b[0mgen_noise\u001b[0m\u001b[0;34m(\u001b[0m\u001b[0mcur_bs\u001b[0m\u001b[0;34m,\u001b[0m \u001b[0mz_dim\u001b[0m\u001b[0;34m)\u001b[0m\u001b[0;34m\u001b[0m\u001b[0;34m\u001b[0m\u001b[0m\n\u001b[1;32m     14\u001b[0m       \u001b[0mfake\u001b[0m \u001b[0;34m=\u001b[0m \u001b[0mgen\u001b[0m\u001b[0;34m(\u001b[0m\u001b[0mnoise\u001b[0m\u001b[0;34m)\u001b[0m\u001b[0;34m\u001b[0m\u001b[0;34m\u001b[0m\u001b[0m\n\u001b[0;32m---> 15\u001b[0;31m       \u001b[0mcrit_fake_pred\u001b[0m \u001b[0;34m=\u001b[0m \u001b[0mcrit\u001b[0m\u001b[0;34m(\u001b[0m\u001b[0mfake\u001b[0m\u001b[0;34m)\u001b[0m\u001b[0;34m\u001b[0m\u001b[0;34m\u001b[0m\u001b[0m\n\u001b[0m\u001b[1;32m     16\u001b[0m       \u001b[0mcrit_real_pred\u001b[0m \u001b[0;34m=\u001b[0m \u001b[0mcrit\u001b[0m\u001b[0;34m(\u001b[0m\u001b[0mreal\u001b[0m\u001b[0;34m)\u001b[0m\u001b[0;34m\u001b[0m\u001b[0;34m\u001b[0m\u001b[0m\n\u001b[1;32m     17\u001b[0m \u001b[0;34m\u001b[0m\u001b[0m\n",
            "\u001b[0;32m/usr/local/lib/python3.10/dist-packages/torch/nn/modules/module.py\u001b[0m in \u001b[0;36m_call_impl\u001b[0;34m(self, *args, **kwargs)\u001b[0m\n\u001b[1;32m   1499\u001b[0m                 \u001b[0;32mor\u001b[0m \u001b[0m_global_backward_pre_hooks\u001b[0m \u001b[0;32mor\u001b[0m \u001b[0m_global_backward_hooks\u001b[0m\u001b[0;34m\u001b[0m\u001b[0;34m\u001b[0m\u001b[0m\n\u001b[1;32m   1500\u001b[0m                 or _global_forward_hooks or _global_forward_pre_hooks):\n\u001b[0;32m-> 1501\u001b[0;31m             \u001b[0;32mreturn\u001b[0m \u001b[0mforward_call\u001b[0m\u001b[0;34m(\u001b[0m\u001b[0;34m*\u001b[0m\u001b[0margs\u001b[0m\u001b[0;34m,\u001b[0m \u001b[0;34m**\u001b[0m\u001b[0mkwargs\u001b[0m\u001b[0;34m)\u001b[0m\u001b[0;34m\u001b[0m\u001b[0;34m\u001b[0m\u001b[0m\n\u001b[0m\u001b[1;32m   1502\u001b[0m         \u001b[0;31m# Do not call functions when jit is used\u001b[0m\u001b[0;34m\u001b[0m\u001b[0;34m\u001b[0m\u001b[0m\n\u001b[1;32m   1503\u001b[0m         \u001b[0mfull_backward_hooks\u001b[0m\u001b[0;34m,\u001b[0m \u001b[0mnon_full_backward_hooks\u001b[0m \u001b[0;34m=\u001b[0m \u001b[0;34m[\u001b[0m\u001b[0;34m]\u001b[0m\u001b[0;34m,\u001b[0m \u001b[0;34m[\u001b[0m\u001b[0;34m]\u001b[0m\u001b[0;34m\u001b[0m\u001b[0;34m\u001b[0m\u001b[0m\n",
            "\u001b[0;32m<ipython-input-4-da99e8fb6e02>\u001b[0m in \u001b[0;36mforward\u001b[0;34m(self, image)\u001b[0m\n\u001b[1;32m     36\u001b[0m \u001b[0;34m\u001b[0m\u001b[0m\n\u001b[1;32m     37\u001b[0m   \u001b[0;32mdef\u001b[0m \u001b[0mforward\u001b[0m\u001b[0;34m(\u001b[0m\u001b[0mself\u001b[0m\u001b[0;34m,\u001b[0m\u001b[0mimage\u001b[0m\u001b[0;34m)\u001b[0m\u001b[0;34m:\u001b[0m\u001b[0;34m\u001b[0m\u001b[0;34m\u001b[0m\u001b[0m\n\u001b[0;32m---> 38\u001b[0;31m     \u001b[0mcrit_pred\u001b[0m \u001b[0;34m=\u001b[0m \u001b[0mself\u001b[0m\u001b[0;34m.\u001b[0m\u001b[0mcrit\u001b[0m\u001b[0;34m(\u001b[0m\u001b[0mimage\u001b[0m\u001b[0;34m)\u001b[0m\u001b[0;34m\u001b[0m\u001b[0;34m\u001b[0m\u001b[0m\n\u001b[0m\u001b[1;32m     39\u001b[0m     \u001b[0;32mreturn\u001b[0m \u001b[0mcrit_pred\u001b[0m\u001b[0;34m.\u001b[0m\u001b[0mview\u001b[0m\u001b[0;34m(\u001b[0m\u001b[0mlen\u001b[0m\u001b[0;34m(\u001b[0m\u001b[0mcrit_pred\u001b[0m\u001b[0;34m)\u001b[0m\u001b[0;34m,\u001b[0m \u001b[0;34m-\u001b[0m\u001b[0;36m1\u001b[0m \u001b[0;34m)\u001b[0m\u001b[0;34m\u001b[0m\u001b[0;34m\u001b[0m\u001b[0m\n",
            "\u001b[0;32m/usr/local/lib/python3.10/dist-packages/torch/nn/modules/module.py\u001b[0m in \u001b[0;36m_call_impl\u001b[0;34m(self, *args, **kwargs)\u001b[0m\n\u001b[1;32m   1499\u001b[0m                 \u001b[0;32mor\u001b[0m \u001b[0m_global_backward_pre_hooks\u001b[0m \u001b[0;32mor\u001b[0m \u001b[0m_global_backward_hooks\u001b[0m\u001b[0;34m\u001b[0m\u001b[0;34m\u001b[0m\u001b[0m\n\u001b[1;32m   1500\u001b[0m                 or _global_forward_hooks or _global_forward_pre_hooks):\n\u001b[0;32m-> 1501\u001b[0;31m             \u001b[0;32mreturn\u001b[0m \u001b[0mforward_call\u001b[0m\u001b[0;34m(\u001b[0m\u001b[0;34m*\u001b[0m\u001b[0margs\u001b[0m\u001b[0;34m,\u001b[0m \u001b[0;34m**\u001b[0m\u001b[0mkwargs\u001b[0m\u001b[0;34m)\u001b[0m\u001b[0;34m\u001b[0m\u001b[0;34m\u001b[0m\u001b[0m\n\u001b[0m\u001b[1;32m   1502\u001b[0m         \u001b[0;31m# Do not call functions when jit is used\u001b[0m\u001b[0;34m\u001b[0m\u001b[0;34m\u001b[0m\u001b[0m\n\u001b[1;32m   1503\u001b[0m         \u001b[0mfull_backward_hooks\u001b[0m\u001b[0;34m,\u001b[0m \u001b[0mnon_full_backward_hooks\u001b[0m \u001b[0;34m=\u001b[0m \u001b[0;34m[\u001b[0m\u001b[0;34m]\u001b[0m\u001b[0;34m,\u001b[0m \u001b[0;34m[\u001b[0m\u001b[0;34m]\u001b[0m\u001b[0;34m\u001b[0m\u001b[0;34m\u001b[0m\u001b[0m\n",
            "\u001b[0;32m/usr/local/lib/python3.10/dist-packages/torch/nn/modules/container.py\u001b[0m in \u001b[0;36mforward\u001b[0;34m(self, input)\u001b[0m\n\u001b[1;32m    215\u001b[0m     \u001b[0;32mdef\u001b[0m \u001b[0mforward\u001b[0m\u001b[0;34m(\u001b[0m\u001b[0mself\u001b[0m\u001b[0;34m,\u001b[0m \u001b[0minput\u001b[0m\u001b[0;34m)\u001b[0m\u001b[0;34m:\u001b[0m\u001b[0;34m\u001b[0m\u001b[0;34m\u001b[0m\u001b[0m\n\u001b[1;32m    216\u001b[0m         \u001b[0;32mfor\u001b[0m \u001b[0mmodule\u001b[0m \u001b[0;32min\u001b[0m \u001b[0mself\u001b[0m\u001b[0;34m:\u001b[0m\u001b[0;34m\u001b[0m\u001b[0;34m\u001b[0m\u001b[0m\n\u001b[0;32m--> 217\u001b[0;31m             \u001b[0minput\u001b[0m \u001b[0;34m=\u001b[0m \u001b[0mmodule\u001b[0m\u001b[0;34m(\u001b[0m\u001b[0minput\u001b[0m\u001b[0;34m)\u001b[0m\u001b[0;34m\u001b[0m\u001b[0;34m\u001b[0m\u001b[0m\n\u001b[0m\u001b[1;32m    218\u001b[0m         \u001b[0;32mreturn\u001b[0m \u001b[0minput\u001b[0m\u001b[0;34m\u001b[0m\u001b[0;34m\u001b[0m\u001b[0m\n\u001b[1;32m    219\u001b[0m \u001b[0;34m\u001b[0m\u001b[0m\n",
            "\u001b[0;32m/usr/local/lib/python3.10/dist-packages/torch/nn/modules/module.py\u001b[0m in \u001b[0;36m_call_impl\u001b[0;34m(self, *args, **kwargs)\u001b[0m\n\u001b[1;32m   1499\u001b[0m                 \u001b[0;32mor\u001b[0m \u001b[0m_global_backward_pre_hooks\u001b[0m \u001b[0;32mor\u001b[0m \u001b[0m_global_backward_hooks\u001b[0m\u001b[0;34m\u001b[0m\u001b[0;34m\u001b[0m\u001b[0m\n\u001b[1;32m   1500\u001b[0m                 or _global_forward_hooks or _global_forward_pre_hooks):\n\u001b[0;32m-> 1501\u001b[0;31m             \u001b[0;32mreturn\u001b[0m \u001b[0mforward_call\u001b[0m\u001b[0;34m(\u001b[0m\u001b[0;34m*\u001b[0m\u001b[0margs\u001b[0m\u001b[0;34m,\u001b[0m \u001b[0;34m**\u001b[0m\u001b[0mkwargs\u001b[0m\u001b[0;34m)\u001b[0m\u001b[0;34m\u001b[0m\u001b[0;34m\u001b[0m\u001b[0m\n\u001b[0m\u001b[1;32m   1502\u001b[0m         \u001b[0;31m# Do not call functions when jit is used\u001b[0m\u001b[0;34m\u001b[0m\u001b[0;34m\u001b[0m\u001b[0m\n\u001b[1;32m   1503\u001b[0m         \u001b[0mfull_backward_hooks\u001b[0m\u001b[0;34m,\u001b[0m \u001b[0mnon_full_backward_hooks\u001b[0m \u001b[0;34m=\u001b[0m \u001b[0;34m[\u001b[0m\u001b[0;34m]\u001b[0m\u001b[0;34m,\u001b[0m \u001b[0;34m[\u001b[0m\u001b[0;34m]\u001b[0m\u001b[0;34m\u001b[0m\u001b[0;34m\u001b[0m\u001b[0m\n",
            "\u001b[0;32m/usr/local/lib/python3.10/dist-packages/torch/nn/modules/instancenorm.py\u001b[0m in \u001b[0;36mforward\u001b[0;34m(self, input)\u001b[0m\n\u001b[1;32m     72\u001b[0m             \u001b[0;32mreturn\u001b[0m \u001b[0mself\u001b[0m\u001b[0;34m.\u001b[0m\u001b[0m_handle_no_batch_input\u001b[0m\u001b[0;34m(\u001b[0m\u001b[0minput\u001b[0m\u001b[0;34m)\u001b[0m\u001b[0;34m\u001b[0m\u001b[0;34m\u001b[0m\u001b[0m\n\u001b[1;32m     73\u001b[0m \u001b[0;34m\u001b[0m\u001b[0m\n\u001b[0;32m---> 74\u001b[0;31m         \u001b[0;32mreturn\u001b[0m \u001b[0mself\u001b[0m\u001b[0;34m.\u001b[0m\u001b[0m_apply_instance_norm\u001b[0m\u001b[0;34m(\u001b[0m\u001b[0minput\u001b[0m\u001b[0;34m)\u001b[0m\u001b[0;34m\u001b[0m\u001b[0;34m\u001b[0m\u001b[0m\n\u001b[0m\u001b[1;32m     75\u001b[0m \u001b[0;34m\u001b[0m\u001b[0m\n\u001b[1;32m     76\u001b[0m \u001b[0;34m\u001b[0m\u001b[0m\n",
            "\u001b[0;32m/usr/local/lib/python3.10/dist-packages/torch/nn/modules/instancenorm.py\u001b[0m in \u001b[0;36m_apply_instance_norm\u001b[0;34m(self, input)\u001b[0m\n\u001b[1;32m     32\u001b[0m \u001b[0;34m\u001b[0m\u001b[0m\n\u001b[1;32m     33\u001b[0m     \u001b[0;32mdef\u001b[0m \u001b[0m_apply_instance_norm\u001b[0m\u001b[0;34m(\u001b[0m\u001b[0mself\u001b[0m\u001b[0;34m,\u001b[0m \u001b[0minput\u001b[0m\u001b[0;34m)\u001b[0m\u001b[0;34m:\u001b[0m\u001b[0;34m\u001b[0m\u001b[0;34m\u001b[0m\u001b[0m\n\u001b[0;32m---> 34\u001b[0;31m         return F.instance_norm(\n\u001b[0m\u001b[1;32m     35\u001b[0m             \u001b[0minput\u001b[0m\u001b[0;34m,\u001b[0m \u001b[0mself\u001b[0m\u001b[0;34m.\u001b[0m\u001b[0mrunning_mean\u001b[0m\u001b[0;34m,\u001b[0m \u001b[0mself\u001b[0m\u001b[0;34m.\u001b[0m\u001b[0mrunning_var\u001b[0m\u001b[0;34m,\u001b[0m \u001b[0mself\u001b[0m\u001b[0;34m.\u001b[0m\u001b[0mweight\u001b[0m\u001b[0;34m,\u001b[0m \u001b[0mself\u001b[0m\u001b[0;34m.\u001b[0m\u001b[0mbias\u001b[0m\u001b[0;34m,\u001b[0m\u001b[0;34m\u001b[0m\u001b[0;34m\u001b[0m\u001b[0m\n\u001b[1;32m     36\u001b[0m             self.training or not self.track_running_stats, self.momentum, self.eps)\n",
            "\u001b[0;32m/usr/local/lib/python3.10/dist-packages/torch/nn/functional.py\u001b[0m in \u001b[0;36minstance_norm\u001b[0;34m(input, running_mean, running_var, weight, bias, use_input_stats, momentum, eps)\u001b[0m\n\u001b[1;32m   2492\u001b[0m         )\n\u001b[1;32m   2493\u001b[0m     \u001b[0;32mif\u001b[0m \u001b[0muse_input_stats\u001b[0m\u001b[0;34m:\u001b[0m\u001b[0;34m\u001b[0m\u001b[0;34m\u001b[0m\u001b[0m\n\u001b[0;32m-> 2494\u001b[0;31m         \u001b[0m_verify_spatial_size\u001b[0m\u001b[0;34m(\u001b[0m\u001b[0minput\u001b[0m\u001b[0;34m.\u001b[0m\u001b[0msize\u001b[0m\u001b[0;34m(\u001b[0m\u001b[0;34m)\u001b[0m\u001b[0;34m)\u001b[0m\u001b[0;34m\u001b[0m\u001b[0;34m\u001b[0m\u001b[0m\n\u001b[0m\u001b[1;32m   2495\u001b[0m     return torch.instance_norm(\n\u001b[1;32m   2496\u001b[0m         \u001b[0minput\u001b[0m\u001b[0;34m,\u001b[0m \u001b[0mweight\u001b[0m\u001b[0;34m,\u001b[0m \u001b[0mbias\u001b[0m\u001b[0;34m,\u001b[0m \u001b[0mrunning_mean\u001b[0m\u001b[0;34m,\u001b[0m \u001b[0mrunning_var\u001b[0m\u001b[0;34m,\u001b[0m \u001b[0muse_input_stats\u001b[0m\u001b[0;34m,\u001b[0m \u001b[0mmomentum\u001b[0m\u001b[0;34m,\u001b[0m \u001b[0meps\u001b[0m\u001b[0;34m,\u001b[0m \u001b[0mtorch\u001b[0m\u001b[0;34m.\u001b[0m\u001b[0mbackends\u001b[0m\u001b[0;34m.\u001b[0m\u001b[0mcudnn\u001b[0m\u001b[0;34m.\u001b[0m\u001b[0menabled\u001b[0m\u001b[0;34m\u001b[0m\u001b[0;34m\u001b[0m\u001b[0m\n",
            "\u001b[0;32m/usr/local/lib/python3.10/dist-packages/torch/nn/functional.py\u001b[0m in \u001b[0;36m_verify_spatial_size\u001b[0;34m(size)\u001b[0m\n\u001b[1;32m   2459\u001b[0m         \u001b[0msize_prods\u001b[0m \u001b[0;34m*=\u001b[0m \u001b[0msize\u001b[0m\u001b[0;34m[\u001b[0m\u001b[0mi\u001b[0m\u001b[0;34m]\u001b[0m\u001b[0;34m\u001b[0m\u001b[0;34m\u001b[0m\u001b[0m\n\u001b[1;32m   2460\u001b[0m     \u001b[0;32mif\u001b[0m \u001b[0msize_prods\u001b[0m \u001b[0;34m==\u001b[0m \u001b[0;36m1\u001b[0m\u001b[0;34m:\u001b[0m\u001b[0;34m\u001b[0m\u001b[0;34m\u001b[0m\u001b[0m\n\u001b[0;32m-> 2461\u001b[0;31m         \u001b[0;32mraise\u001b[0m \u001b[0mValueError\u001b[0m\u001b[0;34m(\u001b[0m\u001b[0;34m\"Expected more than 1 spatial element when training, got input size {}\"\u001b[0m\u001b[0;34m.\u001b[0m\u001b[0mformat\u001b[0m\u001b[0;34m(\u001b[0m\u001b[0msize\u001b[0m\u001b[0;34m)\u001b[0m\u001b[0;34m)\u001b[0m\u001b[0;34m\u001b[0m\u001b[0;34m\u001b[0m\u001b[0m\n\u001b[0m\u001b[1;32m   2462\u001b[0m \u001b[0;34m\u001b[0m\u001b[0m\n\u001b[1;32m   2463\u001b[0m \u001b[0;34m\u001b[0m\u001b[0m\n",
            "\u001b[0;31mValueError\u001b[0m: Expected more than 1 spatial element when training, got input size torch.Size([128, 64, 1, 1])"
          ]
        }
      ]
    }
  ]
}